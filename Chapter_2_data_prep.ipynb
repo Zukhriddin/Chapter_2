{
 "cells": [
  {
   "cell_type": "markdown",
   "id": "85011cfb",
   "metadata": {
    "slideshow": {
     "slide_type": "slide"
    }
   },
   "source": [
    "# Migration experience premium (Chapter 2) - DATA PREPARATION"
   ]
  },
  {
   "cell_type": "code",
   "execution_count": 1,
   "id": "833f02e9",
   "metadata": {
    "slideshow": {
     "slide_type": "skip"
    }
   },
   "outputs": [
    {
     "data": {
      "text/plain": [
       "'D:\\\\KGZ_LiK\\\\Chapter_2'"
      ]
     },
     "execution_count": 1,
     "metadata": {},
     "output_type": "execute_result"
    }
   ],
   "source": [
    "import numpy as np\n",
    "import pandas as pd\n",
    "import os\n",
    "os.chdir('D:\\KGZ_LiK\\Chapter_2')\n",
    "os.getcwd()"
   ]
  },
  {
   "cell_type": "code",
   "execution_count": 2,
   "id": "a0c98cc1",
   "metadata": {},
   "outputs": [
    {
     "name": "stdout",
     "output_type": "stream",
     "text": [
      "\n",
      "  ___  ____  ____  ____  ____ ©\n",
      " /__    /   ____/   /   ____/      17.0\n",
      "___/   /   /___/   /   /___/       MP—Parallel Edition\n",
      "\n",
      " Statistics and Data Science       Copyright 1985-2021 StataCorp LLC\n",
      "                                   StataCorp\n",
      "                                   4905 Lakeway Drive\n",
      "                                   College Station, Texas 77845 USA\n",
      "                                   800-STATA-PC        https://www.stata.com\n",
      "                                   979-696-4600        stata@stata.com\n",
      "\n",
      "Stata license: Single-user 8-core , expiring  1 Jan 2025\n",
      "Serial number: 501709301094\n",
      "  Licensed to: 微软用户\n",
      "               微软中国\n",
      "\n",
      "Notes:\n",
      "      1. Unicode is supported; see help unicode_advice.\n",
      "      2. More than 2 billion observations are allowed; see help obs_advice.\n",
      "      3. Maximum number of variables is set to 5,000; see help set_maxvar.\n"
     ]
    }
   ],
   "source": [
    "### Connect to Stata\n",
    "import sys\n",
    "sys.path.append('D:/Moved_from_C/Stata17/utilities')\n",
    "from pystata import config\n",
    "config.init('mp');"
   ]
  },
  {
   "cell_type": "markdown",
   "id": "afbe719e",
   "metadata": {
    "slideshow": {
     "slide_type": "slide"
    }
   },
   "source": [
    "# 1. Subset from main data set - KGZ LiK 2010-2019\n",
    "### Male 16-65 years old living and working in KGZ. "
   ]
  },
  {
   "cell_type": "code",
   "execution_count": 3,
   "id": "5d3cf9c7",
   "metadata": {
    "scrolled": false
   },
   "outputs": [
    {
     "name": "stderr",
     "output_type": "stream",
     "text": [
      "D:\\Moved_from_C\\TEMP\\ipykernel_3956\\415260878.py:2: UnicodeWarning: \n",
      "One or more strings in the dta file could not be decoded using utf-8, and\n",
      "so the fallback encoding of latin-1 is being used.  This can happen when a file\n",
      "has been incorrectly encoded by Stata or some other software. You should verify\n",
      "the string values returned are correct.\n",
      "  data = pd.read_stata('\\KGZ_LiK\\kgzlik1019.dta').set_index('index')\n"
     ]
    },
    {
     "data": {
      "text/plain": [
       "(19735, 465)"
      ]
     },
     "execution_count": 3,
     "metadata": {},
     "output_type": "execute_result"
    }
   ],
   "source": [
    "## From main dataset we extract the respective observations\n",
    "data = pd.read_stata('\\KGZ_LiK\\kgzlik1019.dta').set_index('index')\n",
    "\n",
    "data = data[(data.age>=16) & (data.age<=65)]\n",
    "data = data[data.np != 1]\n",
    "data = data[data.mn != 1]\n",
    "data = data[data.male == 1]\n",
    "data.shape"
   ]
  },
  {
   "cell_type": "markdown",
   "id": "02df0415",
   "metadata": {},
   "source": [
    "# 2. Wage imputation\n",
    "### About 40% of observations have missing wage values. It needs to be imputed...\n",
    "### 2.1 Getting the subset of data to be imputed and saving it separately."
   ]
  },
  {
   "cell_type": "code",
   "execution_count": 4,
   "id": "8a7c800c",
   "metadata": {},
   "outputs": [
    {
     "data": {
      "text/plain": [
       "(11435, 40)"
      ]
     },
     "execution_count": 4,
     "metadata": {},
     "output_type": "execute_result"
    }
   ],
   "source": [
    "## Turning data into python dataframe\n",
    "df = data.copy()\n",
    "to_be_imputed = df[(df.hours>=5) & (df.employed==1)][['age', 'age2', 'exp', 'exp2', 'educc', 'dependents',\n",
    "                    'urban', 'employee', 'sector', 'occupation', 'year', \n",
    "                    'region', 'hours', 'ldwage', 'ldwagew']]\n",
    "\n",
    "# replace categorical variables to numbers\n",
    "dummies = pd.get_dummies(to_be_imputed[['educc', 'sector', 'occupation']])\n",
    "dt = pd.concat([to_be_imputed, dummies], axis = 'columns')\n",
    "dt = dt.drop(columns = ['educc', 'sector', 'occupation', \n",
    "                   'educc_General or less (9)', 'sector_extra-territorial organizations ', 'occupation_armed forcecs ' ], \n",
    "                    axis = 'columns')\n",
    "dt.shape"
   ]
  },
  {
   "cell_type": "markdown",
   "id": "10d220c3",
   "metadata": {},
   "source": [
    "### 2.2 Conducting imputation of K nearest neighbor (K=3)"
   ]
  },
  {
   "cell_type": "code",
   "execution_count": 5,
   "id": "947dd693",
   "metadata": {},
   "outputs": [],
   "source": [
    "## Imputing package\n",
    "from sklearn.impute import KNNImputer"
   ]
  },
  {
   "cell_type": "code",
   "execution_count": 8,
   "id": "00defd6e",
   "metadata": {},
   "outputs": [
    {
     "data": {
      "text/plain": [
       "(11435, 40)"
      ]
     },
     "execution_count": 8,
     "metadata": {},
     "output_type": "execute_result"
    }
   ],
   "source": [
    "### Implmenting imputation\n",
    "imputer = KNNImputer(n_neighbors = 3, weights = 'uniform')\n",
    "imputed = pd.DataFrame(imputer.fit_transform(dt), \n",
    "                        columns = dt.columns).rename(columns = {'ldwage':'imputed_ldwage', 'ldwagew': 'imputed_ldwagew'})\n",
    "imputed.shape"
   ]
  },
  {
   "cell_type": "code",
   "execution_count": 16,
   "id": "8e4a2d5c",
   "metadata": {},
   "outputs": [
    {
     "data": {
      "text/plain": [
       "(11435, 3)"
      ]
     },
     "execution_count": 16,
     "metadata": {},
     "output_type": "execute_result"
    }
   ],
   "source": [
    "imputed = pd.concat([dt.reset_index()[['index']], imputed[['imputed_ldwage', 'imputed_ldwagew']]], axis = 'columns')\n",
    "imputed.shape"
   ]
  },
  {
   "cell_type": "markdown",
   "id": "f555f796",
   "metadata": {},
   "source": [
    "### 2.3 Merging imputed data to master data"
   ]
  },
  {
   "cell_type": "code",
   "execution_count": 17,
   "id": "bb594ff8",
   "metadata": {
    "scrolled": true
   },
   "outputs": [
    {
     "data": {
      "text/plain": [
       "(19735, 467)"
      ]
     },
     "execution_count": 17,
     "metadata": {},
     "output_type": "execute_result"
    }
   ],
   "source": [
    "### Merging imputed data to master\n",
    "data = pd.concat([data, imputed.set_index('index')], axis = 'columns')\n",
    "data.shape"
   ]
  },
  {
   "cell_type": "code",
   "execution_count": 21,
   "id": "ccf7052f",
   "metadata": {},
   "outputs": [
    {
     "name": "stderr",
     "output_type": "stream",
     "text": [
      "D:\\Moved_from_C\\TEMP\\ipykernel_3956\\3161434775.py:2: ValueLabelTypeMismatch: \n",
      "Stata value labels (pandas categories) must be strings. Column sector_m contains\n",
      "non-string labels which will be converted to strings.  Please check that the\n",
      "Stata data file created has not lost information due to duplicate labels.\n",
      "\n",
      "  data.to_stata('data_2.dta')\n",
      "D:\\Moved_from_C\\TEMP\\ipykernel_3956\\3161434775.py:2: ValueLabelTypeMismatch: \n",
      "Stata value labels (pandas categories) must be strings. Column sector contains\n",
      "non-string labels which will be converted to strings.  Please check that the\n",
      "Stata data file created has not lost information due to duplicate labels.\n",
      "\n",
      "  data.to_stata('data_2.dta')\n",
      "D:\\Moved_from_C\\TEMP\\ipykernel_3956\\3161434775.py:2: ValueLabelTypeMismatch: \n",
      "Stata value labels (pandas categories) must be strings. Column agegrpc contains\n",
      "non-string labels which will be converted to strings.  Please check that the\n",
      "Stata data file created has not lost information due to duplicate labels.\n",
      "\n",
      "  data.to_stata('data_2.dta')\n",
      "D:\\Moved_from_C\\TEMP\\ipykernel_3956\\3161434775.py:2: ValueLabelTypeMismatch: \n",
      "Stata value labels (pandas categories) must be strings. Column agegrpc08 contains\n",
      "non-string labels which will be converted to strings.  Please check that the\n",
      "Stata data file created has not lost information due to duplicate labels.\n",
      "\n",
      "  data.to_stata('data_2.dta')\n",
      "D:\\Moved_from_C\\TEMP\\ipykernel_3956\\3161434775.py:2: ValueLabelTypeMismatch: \n",
      "Stata value labels (pandas categories) must be strings. Column agegrpc09 contains\n",
      "non-string labels which will be converted to strings.  Please check that the\n",
      "Stata data file created has not lost information due to duplicate labels.\n",
      "\n",
      "  data.to_stata('data_2.dta')\n"
     ]
    }
   ],
   "source": [
    "### Saving to file\n",
    "data.to_stata('data_2.dta')"
   ]
  },
  {
   "cell_type": "markdown",
   "id": "013613b7",
   "metadata": {},
   "source": [
    "# 3. Merging the instrument\n",
    "### Instrument: Oil rent revenue per capita at 19years old"
   ]
  },
  {
   "cell_type": "markdown",
   "id": "0d48c153",
   "metadata": {},
   "source": [
    "### 3.1 Getting data from World Bank as per capita oil revenue"
   ]
  },
  {
   "cell_type": "code",
   "execution_count": 25,
   "id": "97a690c9",
   "metadata": {},
   "outputs": [],
   "source": [
    "### Getting data from World Bank \n",
    "import wbgapi as wb"
   ]
  },
  {
   "cell_type": "code",
   "execution_count": 26,
   "id": "5f6eb5d2",
   "metadata": {
    "scrolled": false
   },
   "outputs": [],
   "source": [
    "### Accumulating data\n",
    "colnames = ['year', 'Real GDP per Cap', 'Oil Rents %GDP']\n",
    "time = range(1990,2023)\n",
    "query = ['NY.GDP.PCAP.PP.CD', 'NY.GDP.PETR.RT.ZS']\n",
    "df = wb.data.DataFrame(query, 'RUS', time, index = 'time').reset_index()\n",
    "df.columns = colnames\n",
    "df['year'] = df['year'].str.replace('YR', '').astype(int)\n",
    "df['Oil Rent per Cap'] = df['Real GDP per Cap']*df['Oil Rents %GDP']/100\n",
    "\n",
    "### Saving to file \n",
    "df[['year', 'Oil Rent per Cap']].to_csv('wdb_rus_oil_data.csv', index = False)"
   ]
  },
  {
   "cell_type": "markdown",
   "id": "6599601e",
   "metadata": {},
   "source": [
    "### 3.2 Merging oil data with master data"
   ]
  },
  {
   "cell_type": "code",
   "execution_count": 27,
   "id": "9fef60ae",
   "metadata": {
    "scrolled": false
   },
   "outputs": [
    {
     "name": "stdout",
     "output_type": "stream",
     "text": [
      "\n",
      ". cd \"D:\\KGZ_LiK\\Chapter_2\"\n",
      "D:\\KGZ_LiK\\Chapter_2\n",
      "\n",
      ". \n",
      ". foreach num of numlist 19/21 {\n",
      "  2.         import delimited wdb_rus_oil_data.csv, clear \n",
      "  3.         rename * =`num'\n",
      "  4.         merge 1:m year`num' using \"D:\\KGZ_LiK\\Chapter_2\\data_2.dta\"\n",
      "  5.         drop _merge\n",
      "  6.         save data_2.dta, replace\n",
      "  7. }\n",
      "(encoding automatically selected: ISO-8859-1)\n",
      "(2 vars, 33 obs)\n",
      "(variable year19 was int, now float to accommodate using data's values)\n",
      "\n",
      "    Result                      Number of obs\n",
      "    -----------------------------------------\n",
      "    Not matched                         6,443\n",
      "        from master                         1  (_merge==1)\n",
      "        from using                      6,442  (_merge==2)\n",
      "\n",
      "    Matched                            13,293  (_merge==3)\n",
      "    -----------------------------------------\n",
      "file data_2.dta saved\n",
      "(encoding automatically selected: ISO-8859-1)\n",
      "(2 vars, 33 obs)\n",
      "(variable year20 was int, now float to accommodate using data's values)\n",
      "\n",
      "    Result                      Number of obs\n",
      "    -----------------------------------------\n",
      "    Not matched                         6,111\n",
      "        from master                         0  (_merge==1)\n",
      "        from using                      6,111  (_merge==2)\n",
      "\n",
      "    Matched                            13,625  (_merge==3)\n",
      "    -----------------------------------------\n",
      "file data_2.dta saved\n",
      "(encoding automatically selected: ISO-8859-1)\n",
      "(2 vars, 33 obs)\n",
      "(variable year21 was int, now float to accommodate using data's values)\n",
      "\n",
      "    Result                      Number of obs\n",
      "    -----------------------------------------\n",
      "    Not matched                         5,706\n",
      "        from master                         0  (_merge==1)\n",
      "        from using                      5,706  (_merge==2)\n",
      "\n",
      "    Matched                            14,030  (_merge==3)\n",
      "    -----------------------------------------\n",
      "file data_2.dta saved\n",
      "\n",
      ". \n"
     ]
    }
   ],
   "source": [
    "%%stata\n",
    "cd \"D:\\KGZ_LiK\\Chapter_2\"\n",
    "\n",
    "foreach num of numlist 19/21 {\n",
    "\timport delimited wdb_rus_oil_data.csv, clear \n",
    "\trename * =`num'\n",
    "\tmerge 1:m year`num' using \"D:\\KGZ_LiK\\Chapter_2\\data_2.dta\"\n",
    "\tdrop _merge\n",
    "\tsave data_2.dta, replace\n",
    "}"
   ]
  },
  {
   "cell_type": "markdown",
   "id": "c83bf9c3",
   "metadata": {},
   "source": [
    "### 3.3 Check correlation of instrument with dummy of return migration"
   ]
  },
  {
   "cell_type": "code",
   "execution_count": 28,
   "id": "34b87d9e",
   "metadata": {
    "scrolled": false
   },
   "outputs": [
    {
     "name": "stdout",
     "output_type": "stream",
     "text": [
      "\n",
      ". ## Check correlations with instrument\n",
      "Unknown #command\n",
      ". global x exp exp2 i.educc urban i.region i.year hours\n",
      "\n",
      ". global ins oilrentpercap19 oilrentpercap20 oilrentpercap21\n",
      "\n",
      ". \n",
      ". eststo clear\n",
      "\n",
      ". foreach iv in $ins {\n",
      "  2.         qui reg mp `iv' $x if imputed_ldwage!=.\n",
      "  3.         eststo \n",
      "  4. }\n",
      "(est1 stored)\n",
      "(est2 stored)\n",
      "(est3 stored)\n",
      "\n",
      ". esttab, b se(4) ar2 keep($ins)\n",
      "\n",
      "------------------------------------------------------------\n",
      "                      (1)             (2)             (3)   \n",
      "                       mp              mp              mp   \n",
      "------------------------------------------------------------\n",
      "oilrentpe~19    0.0000792***                                \n",
      "                 (0.0000)                                   \n",
      "\n",
      "oilrentpe~20                    0.0000624***                \n",
      "                                 (0.0000)                   \n",
      "\n",
      "oilrentpe~21                                    0.0000823***\n",
      "                                                 (0.0000)   \n",
      "------------------------------------------------------------\n",
      "N                    7122            7325            7600   \n",
      "adj. R-sq           0.152           0.149           0.152   \n",
      "------------------------------------------------------------\n",
      "Standard errors in parentheses\n",
      "* p<0.05, ** p<0.01, *** p<0.001\n",
      "\n",
      ". \n"
     ]
    }
   ],
   "source": [
    "%%stata\n",
    "## Check correlations with instrument\n",
    "global x exp exp2 i.educc urban i.region i.year hours\n",
    "global ins oilrentpercap19 oilrentpercap20 oilrentpercap21\n",
    "\n",
    "eststo clear\n",
    "foreach iv in $ins {\n",
    "\tqui reg mp `iv' $x if imputed_ldwage!=.\n",
    "\teststo \n",
    "}\n",
    "esttab, b se(4) ar2 keep($ins)"
   ]
  },
  {
   "cell_type": "markdown",
   "id": "5b7a60c4",
   "metadata": {},
   "source": [
    "# Data is ready to be used!"
   ]
  },
  {
   "cell_type": "code",
   "execution_count": null,
   "id": "15342a9e",
   "metadata": {},
   "outputs": [],
   "source": []
  }
 ],
 "metadata": {
  "kernelspec": {
   "display_name": "Python 3 (ipykernel)",
   "language": "python",
   "name": "python3"
  },
  "language_info": {
   "codemirror_mode": {
    "name": "ipython",
    "version": 3
   },
   "file_extension": ".py",
   "mimetype": "text/x-python",
   "name": "python",
   "nbconvert_exporter": "python",
   "pygments_lexer": "ipython3",
   "version": "3.9.12"
  }
 },
 "nbformat": 4,
 "nbformat_minor": 5
}
